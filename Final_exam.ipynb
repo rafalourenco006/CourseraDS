{
  "nbformat": 4,
  "nbformat_minor": 0,
  "metadata": {
    "colab": {
      "name": "Final_exam.ipynb",
      "provenance": [],
      "authorship_tag": "ABX9TyNlqdQ4lvqRoOOOflcSOFIS",
      "include_colab_link": true
    },
    "kernelspec": {
      "name": "python3",
      "display_name": "Python 3"
    },
    "language_info": {
      "name": "python"
    }
  },
  "cells": [
    {
      "cell_type": "markdown",
      "metadata": {
        "id": "view-in-github",
        "colab_type": "text"
      },
      "source": [
        "<a href=\"https://colab.research.google.com/github/rafalourenco006/testrepo/blob/main/Final_exam.ipynb\" target=\"_parent\"><img src=\"https://colab.research.google.com/assets/colab-badge.svg\" alt=\"Open In Colab\"/></a>"
      ]
    },
    {
      "cell_type": "markdown",
      "source": [
        "#My Jupyter Notebook on Google Colaboratory\n",
        "Note: I cannot access on IBM Watson because my free license has expered."
      ],
      "metadata": {
        "id": "7Hj_OAx5566C"
      }
    },
    {
      "cell_type": "markdown",
      "source": [
        "**Rafael Barbosa Martins Lourenço**\n",
        "\n",
        "Mechanical Engineer"
      ],
      "metadata": {
        "id": "yAlNxL2W7lkZ"
      }
    },
    {
      "cell_type": "markdown",
      "source": [
        "*I want to learn data science because it's the profession of the future as well as keeping me up to date on the cutting edge of technology*"
      ],
      "metadata": {
        "id": "a2-Vh8ML71TB"
      }
    },
    {
      "cell_type": "markdown",
      "source": [
        "#The code below informs the sum of two numbers"
      ],
      "metadata": {
        "id": "Aev7_7Ws8Zgy"
      }
    },
    {
      "cell_type": "code",
      "source": [
        "a = 1\n",
        "b = 5\n",
        "print(a + b)"
      ],
      "metadata": {
        "colab": {
          "base_uri": "https://localhost:8080/"
        },
        "id": "TO7l9Bw79d30",
        "outputId": "df320c75-441c-49e7-bb42-94a645e0b30f"
      },
      "execution_count": null,
      "outputs": [
        {
          "output_type": "stream",
          "name": "stdout",
          "text": [
            "6\n"
          ]
        }
      ]
    },
    {
      "cell_type": "markdown",
      "source": [
        "\n",
        "\n",
        "*   Cow\n",
        "*   Dog\n",
        "*   Cat\n",
        "*   Bird\n",
        "\n",
        "---\n",
        "\n",
        "https://cf-courses-data.s3.us.cloud-object-storage.appdomain.cloud/IBMDeveloperSkillsNetwork-DS0105EN-SkillsNetwork/labs/FinalModule_Coursera/Final_Instruction_toolforDS.md.html?origin=www.coursera.org\n",
        "\n",
        "---\n",
        "\n",
        "\n",
        "\n",
        "1.   Jon\n",
        "2.   Jaime\n",
        "3.   Rob\n",
        "4.   Daenerys"
      ],
      "metadata": {
        "id": "Xqm48AtD8-gQ"
      }
    },
    {
      "cell_type": "code",
      "source": [
        ""
      ],
      "metadata": {
        "id": "h0oeGT4wALmX"
      },
      "execution_count": null,
      "outputs": []
    }
  ]
}